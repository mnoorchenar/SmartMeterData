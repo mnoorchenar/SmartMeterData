{
  "nbformat": 4,
  "nbformat_minor": 0,
  "metadata": {
    "colab": {
      "provenance": [],
      "mount_file_id": "1R1KRDhYLH3w4biCPy_N8b6r2zC4y3FjW",
      "authorship_tag": "ABX9TyOEU4zIVODxbP+9Sdad26Ut",
      "include_colab_link": true
    },
    "kernelspec": {
      "name": "python3",
      "display_name": "Python 3"
    },
    "language_info": {
      "name": "python"
    }
  },
  "cells": [
    {
      "cell_type": "markdown",
      "metadata": {
        "id": "view-in-github",
        "colab_type": "text"
      },
      "source": [
        "<a href=\"https://colab.research.google.com/github/mnoorchenar/SmartMeterData/blob/main/LSTM.ipynb\" target=\"_parent\"><img src=\"https://colab.research.google.com/assets/colab-badge.svg\" alt=\"Open In Colab\"/></a>"
      ]
    },
    {
      "cell_type": "code",
      "execution_count": 33,
      "metadata": {
        "id": "CzdgD09kw53p"
      },
      "outputs": [],
      "source": [
        "# !pip install livelossplot\n",
        "\n",
        "import pandas as pd\n",
        "import numpy as np\n",
        "import tensorflow as tf\n",
        "from sklearn.preprocessing import MinMaxScaler\n",
        "from sklearn.model_selection import train_test_split\n",
        "from tensorflow.keras.models import Sequential\n",
        "from tensorflow.keras.layers import LSTM, Dense\n",
        "from livelossplot import PlotLossesKerasTF"
      ]
    },
    {
      "cell_type": "code",
      "source": [
        "# load data into pandas dataframe\n",
        "df = pd.read_csv('/content/drive/MyDrive/SmartMeterData/utilismart_cleaned.csv')\n",
        "\n",
        "# set \"READTS\" as the index of the dataframe\n",
        "df[\"READTS\"] = pd.to_datetime(df[\"READTS\"], format=\"%Y-%m-%d %H:%M:%S\")\n",
        "df.set_index(\"READTS\", inplace=True)\n",
        "\n",
        "df.head()"
      ],
      "metadata": {
        "colab": {
          "base_uri": "https://localhost:8080/",
          "height": 237
        },
        "id": "79Ohv6g31Pao",
        "outputId": "32f2280a-e743-4f12-af74-26b05f7cc6f0"
      },
      "execution_count": 34,
      "outputs": [
        {
          "output_type": "execute_result",
          "data": {
            "text/plain": [
              "                        VAL\n",
              "READTS                     \n",
              "2021-01-01 05:00:00  0.0205\n",
              "2021-01-01 05:15:00  0.0200\n",
              "2021-01-01 05:30:00  0.0200\n",
              "2021-01-01 05:45:00  0.0205\n",
              "2021-01-01 06:00:00  0.0200"
            ],
            "text/html": [
              "\n",
              "  <div id=\"df-09155f5f-17a4-4fcf-9697-def63e33b9ac\">\n",
              "    <div class=\"colab-df-container\">\n",
              "      <div>\n",
              "<style scoped>\n",
              "    .dataframe tbody tr th:only-of-type {\n",
              "        vertical-align: middle;\n",
              "    }\n",
              "\n",
              "    .dataframe tbody tr th {\n",
              "        vertical-align: top;\n",
              "    }\n",
              "\n",
              "    .dataframe thead th {\n",
              "        text-align: right;\n",
              "    }\n",
              "</style>\n",
              "<table border=\"1\" class=\"dataframe\">\n",
              "  <thead>\n",
              "    <tr style=\"text-align: right;\">\n",
              "      <th></th>\n",
              "      <th>VAL</th>\n",
              "    </tr>\n",
              "    <tr>\n",
              "      <th>READTS</th>\n",
              "      <th></th>\n",
              "    </tr>\n",
              "  </thead>\n",
              "  <tbody>\n",
              "    <tr>\n",
              "      <th>2021-01-01 05:00:00</th>\n",
              "      <td>0.0205</td>\n",
              "    </tr>\n",
              "    <tr>\n",
              "      <th>2021-01-01 05:15:00</th>\n",
              "      <td>0.0200</td>\n",
              "    </tr>\n",
              "    <tr>\n",
              "      <th>2021-01-01 05:30:00</th>\n",
              "      <td>0.0200</td>\n",
              "    </tr>\n",
              "    <tr>\n",
              "      <th>2021-01-01 05:45:00</th>\n",
              "      <td>0.0205</td>\n",
              "    </tr>\n",
              "    <tr>\n",
              "      <th>2021-01-01 06:00:00</th>\n",
              "      <td>0.0200</td>\n",
              "    </tr>\n",
              "  </tbody>\n",
              "</table>\n",
              "</div>\n",
              "      <button class=\"colab-df-convert\" onclick=\"convertToInteractive('df-09155f5f-17a4-4fcf-9697-def63e33b9ac')\"\n",
              "              title=\"Convert this dataframe to an interactive table.\"\n",
              "              style=\"display:none;\">\n",
              "        \n",
              "  <svg xmlns=\"http://www.w3.org/2000/svg\" height=\"24px\"viewBox=\"0 0 24 24\"\n",
              "       width=\"24px\">\n",
              "    <path d=\"M0 0h24v24H0V0z\" fill=\"none\"/>\n",
              "    <path d=\"M18.56 5.44l.94 2.06.94-2.06 2.06-.94-2.06-.94-.94-2.06-.94 2.06-2.06.94zm-11 1L8.5 8.5l.94-2.06 2.06-.94-2.06-.94L8.5 2.5l-.94 2.06-2.06.94zm10 10l.94 2.06.94-2.06 2.06-.94-2.06-.94-.94-2.06-.94 2.06-2.06.94z\"/><path d=\"M17.41 7.96l-1.37-1.37c-.4-.4-.92-.59-1.43-.59-.52 0-1.04.2-1.43.59L10.3 9.45l-7.72 7.72c-.78.78-.78 2.05 0 2.83L4 21.41c.39.39.9.59 1.41.59.51 0 1.02-.2 1.41-.59l7.78-7.78 2.81-2.81c.8-.78.8-2.07 0-2.86zM5.41 20L4 18.59l7.72-7.72 1.47 1.35L5.41 20z\"/>\n",
              "  </svg>\n",
              "      </button>\n",
              "      \n",
              "  <style>\n",
              "    .colab-df-container {\n",
              "      display:flex;\n",
              "      flex-wrap:wrap;\n",
              "      gap: 12px;\n",
              "    }\n",
              "\n",
              "    .colab-df-convert {\n",
              "      background-color: #E8F0FE;\n",
              "      border: none;\n",
              "      border-radius: 50%;\n",
              "      cursor: pointer;\n",
              "      display: none;\n",
              "      fill: #1967D2;\n",
              "      height: 32px;\n",
              "      padding: 0 0 0 0;\n",
              "      width: 32px;\n",
              "    }\n",
              "\n",
              "    .colab-df-convert:hover {\n",
              "      background-color: #E2EBFA;\n",
              "      box-shadow: 0px 1px 2px rgba(60, 64, 67, 0.3), 0px 1px 3px 1px rgba(60, 64, 67, 0.15);\n",
              "      fill: #174EA6;\n",
              "    }\n",
              "\n",
              "    [theme=dark] .colab-df-convert {\n",
              "      background-color: #3B4455;\n",
              "      fill: #D2E3FC;\n",
              "    }\n",
              "\n",
              "    [theme=dark] .colab-df-convert:hover {\n",
              "      background-color: #434B5C;\n",
              "      box-shadow: 0px 1px 3px 1px rgba(0, 0, 0, 0.15);\n",
              "      filter: drop-shadow(0px 1px 2px rgba(0, 0, 0, 0.3));\n",
              "      fill: #FFFFFF;\n",
              "    }\n",
              "  </style>\n",
              "\n",
              "      <script>\n",
              "        const buttonEl =\n",
              "          document.querySelector('#df-09155f5f-17a4-4fcf-9697-def63e33b9ac button.colab-df-convert');\n",
              "        buttonEl.style.display =\n",
              "          google.colab.kernel.accessAllowed ? 'block' : 'none';\n",
              "\n",
              "        async function convertToInteractive(key) {\n",
              "          const element = document.querySelector('#df-09155f5f-17a4-4fcf-9697-def63e33b9ac');\n",
              "          const dataTable =\n",
              "            await google.colab.kernel.invokeFunction('convertToInteractive',\n",
              "                                                     [key], {});\n",
              "          if (!dataTable) return;\n",
              "\n",
              "          const docLinkHtml = 'Like what you see? Visit the ' +\n",
              "            '<a target=\"_blank\" href=https://colab.research.google.com/notebooks/data_table.ipynb>data table notebook</a>'\n",
              "            + ' to learn more about interactive tables.';\n",
              "          element.innerHTML = '';\n",
              "          dataTable['output_type'] = 'display_data';\n",
              "          await google.colab.output.renderOutput(dataTable, element);\n",
              "          const docLink = document.createElement('div');\n",
              "          docLink.innerHTML = docLinkHtml;\n",
              "          element.appendChild(docLink);\n",
              "        }\n",
              "      </script>\n",
              "    </div>\n",
              "  </div>\n",
              "  "
            ]
          },
          "metadata": {},
          "execution_count": 34
        }
      ]
    },
    {
      "cell_type": "code",
      "source": [
        "# extract the year from the \"READTS\" column\n",
        "df[\"year\"] = df.index.year\n",
        "\n",
        "# split the data into training and test sets based on year\n",
        "train = df[df[\"year\"] < 2022]\n",
        "test = df[df[\"year\"] >= 2022]\n",
        "\n",
        "# normalize the \"VAL\" column using MinMaxScaler\n",
        "scaler = MinMaxScaler()\n",
        "train[\"VAL\"] = scaler.fit_transform(train[\"VAL\"].values.reshape(-1, 1))\n",
        "test[\"VAL\"] = scaler.transform(test[\"VAL\"].values.reshape(-1, 1))\n",
        "\n",
        "# reshape the data for LSTM\n",
        "X_train = np.reshape(train.values, (train.shape[0], train.shape[1], 1))\n",
        "X_test = np.reshape(test.values, (test.shape[0], test.shape[1], 1))\n",
        "y_train = train[\"VAL\"]\n",
        "y_test = test[\"VAL\"]\n",
        "\n",
        "# create a sequential model\n",
        "model = Sequential()\n",
        "\n",
        "# add an LSTM layer\n",
        "model.add(LSTM(50, input_shape=(X_train.shape[1], X_train.shape[2])))\n",
        "\n",
        "# add a dense layer with a single output\n",
        "model.add(Dense(1))\n",
        "\n",
        "# compile the model\n",
        "model.compile(loss=\"mean_squared_error\", optimizer=\"adam\")\n",
        "\n",
        "# train the model and plot the loss live\n",
        "history = model.fit(X_train, y_train, epochs=10, batch_size=32, validation_data=(X_test, y_test), callbacks=[PlotLossesKerasTF()])\n",
        "\n",
        "# make predictions on the test data\n",
        "y_pred = model.predict(X_test)\n",
        "\n",
        "# inverse transform the predictions back to the original scale\n",
        "y_pred = scaler.inverse_transform(y_pred)\n"
      ],
      "metadata": {
        "colab": {
          "base_uri": "https://localhost:8080/",
          "height": 676
        },
        "id": "8DQGAv4o5BaC",
        "outputId": "cb88399e-bb9c-4a7d-eb1f-9a923ab70de1"
      },
      "execution_count": 35,
      "outputs": [
        {
          "output_type": "display_data",
          "data": {
            "text/plain": [
              "<Figure size 864x576 with 2 Axes>"
            ],
            "image/png": "[encoded data removed]"
          },
          "metadata": {
            "needs_background": "light"
          }
        },
        {
          "output_type": "stream",
          "name": "stdout",
          "text": [
            "Loss\n",
            "\ttraining         \t (min:    0.000, max:    0.001, cur:    0.000)\n",
            "\tvalidation       \t (min:    0.000, max:    0.000, cur:    0.000)\n",
            "3317/3317 [==============================] - 25s 8ms/step - loss: 2.7060e-07 - val_loss: 6.6465e-08\n",
            "2622/2622 [==============================] - 9s 3ms/step\n"
          ]
        }
      ]
    },
    {
      "cell_type": "code",
      "source": [
        "import matplotlib.pyplot as plt\n",
        "\n",
        "# create a scatter plot of the predicted values and the true values\n",
        "plt.scatter(y_test, y_pred, c=\"blue\", label=\"Test data\")\n",
        "\n",
        "# add labels and a title to the plot\n",
        "plt.xlabel(\"True values\")\n",
        "plt.ylabel(\"Predicted values\")\n",
        "plt.title(\"Predicted vs True values\")\n",
        "\n",
        "# add a line of best fit\n",
        "m, b = np.polyfit(y_test, y_pred, 1)\n",
        "plt.plot(y_test, m * y_test + b, c=\"red\", label=\"Best fit\")\n",
        "\n",
        "# add a legend to the plot\n",
        "plt.legend()\n",
        "\n",
        "# show the plot\n",
        "plt.show()\n"
      ],
      "metadata": {
        "colab": {
          "base_uri": "https://localhost:8080/",
          "height": 295
        },
        "id": "VxmXMNuXMrX-",
        "outputId": "1ef1f5ac-6a12-4f7f-d128-af75bfcdbe39"
      },
      "execution_count": 36,
      "outputs": [
        {
          "output_type": "display_data",
          "data": {
            "text/plain": [
              "<Figure size 432x288 with 1 Axes>"
            ],
            "image/png": "[encoded data removed]"
          },
          "metadata": {
            "needs_background": "light"
          }
        }
      ]
    }
  ]
}